{
 "cells": [
  {
   "cell_type": "markdown",
   "metadata": {
    "slideshow": {
     "slide_type": "slide"
    }
   },
   "source": [
    "# Variable names"
   ]
  },
  {
   "cell_type": "code",
   "execution_count": 1,
   "metadata": {},
   "outputs": [],
   "source": [
    "x = 5\n",
    "value9 = -34.2\n",
    "\n",
    "# conventions for multiple words in var name\n",
    "multiplewords = 1\n",
    "multipleWords = 1\n",
    "multiple_words = 1\n",
    "\n",
    "anyCharOr_number0through9_ = \"hello\"\n",
    "_must_start_with_char_or_ = True\n",
    "__avoidThisAsReservedForPythonVars__ = 9"
   ]
  },
  {
   "cell_type": "code",
   "execution_count": 2,
   "metadata": {
    "scrolled": true,
    "slideshow": {
     "slide_type": "fragment"
    }
   },
   "outputs": [
    {
     "ename": "SyntaxError",
     "evalue": "invalid syntax (<ipython-input-2-7546b7f8ef42>, line 2)",
     "output_type": "error",
     "traceback": [
      "\u001b[0;36m  File \u001b[0;32m\"<ipython-input-2-7546b7f8ef42>\"\u001b[0;36m, line \u001b[0;32m2\u001b[0m\n\u001b[0;31m    5x = \"my var\"\u001b[0m\n\u001b[0m     ^\u001b[0m\n\u001b[0;31mSyntaxError\u001b[0m\u001b[0;31m:\u001b[0m invalid syntax\n"
     ]
    }
   ],
   "source": [
    "# variable names cannot start with a number\n",
    "5x = \"my var\""
   ]
  },
  {
   "cell_type": "markdown",
   "metadata": {
    "slideshow": {
     "slide_type": "slide"
    }
   },
   "source": [
    "# Boolean True/False"
   ]
  },
  {
   "cell_type": "code",
   "execution_count": 3,
   "metadata": {},
   "outputs": [
    {
     "data": {
      "text/plain": [
       "(True, False, True, False)"
      ]
     },
     "execution_count": 3,
     "metadata": {},
     "output_type": "execute_result"
    }
   ],
   "source": [
    "x = 3\n",
    "\n",
    "x == 3, x == 4, x < 5, x >= 3.1"
   ]
  },
  {
   "cell_type": "code",
   "execution_count": 4,
   "metadata": {
    "slideshow": {
     "slide_type": "fragment"
    }
   },
   "outputs": [
    {
     "data": {
      "text/plain": [
       "True"
      ]
     },
     "execution_count": 4,
     "metadata": {},
     "output_type": "execute_result"
    }
   ],
   "source": [
    "x != 4"
   ]
  },
  {
   "cell_type": "code",
   "execution_count": 5,
   "metadata": {
    "slideshow": {
     "slide_type": "fragment"
    }
   },
   "outputs": [
    {
     "data": {
      "text/plain": [
       "False"
      ]
     },
     "execution_count": 5,
     "metadata": {},
     "output_type": "execute_result"
    }
   ],
   "source": [
    "x = 3\n",
    "y = 5\n",
    "\n",
    "y < x"
   ]
  },
  {
   "cell_type": "markdown",
   "metadata": {
    "slideshow": {
     "slide_type": "slide"
    }
   },
   "source": [
    "# Boolean expressions"
   ]
  },
  {
   "cell_type": "code",
   "execution_count": 6,
   "metadata": {},
   "outputs": [
    {
     "data": {
      "text/plain": [
       "True"
      ]
     },
     "execution_count": 6,
     "metadata": {},
     "output_type": "execute_result"
    }
   ],
   "source": [
    "x = 3\n",
    "y = 5\n",
    "\n",
    "x == 3 and y == 5"
   ]
  },
  {
   "cell_type": "code",
   "execution_count": 7,
   "metadata": {
    "slideshow": {
     "slide_type": "fragment"
    }
   },
   "outputs": [
    {
     "data": {
      "text/plain": [
       "False"
      ]
     },
     "execution_count": 7,
     "metadata": {},
     "output_type": "execute_result"
    }
   ],
   "source": [
    "x == 3 and y < x"
   ]
  },
  {
   "cell_type": "code",
   "execution_count": 8,
   "metadata": {
    "slideshow": {
     "slide_type": "fragment"
    }
   },
   "outputs": [
    {
     "data": {
      "text/plain": [
       "True"
      ]
     },
     "execution_count": 8,
     "metadata": {},
     "output_type": "execute_result"
    }
   ],
   "source": [
    "x == 3 or y < x"
   ]
  },
  {
   "cell_type": "code",
   "execution_count": 9,
   "metadata": {
    "slideshow": {
     "slide_type": "fragment"
    }
   },
   "outputs": [
    {
     "data": {
      "text/plain": [
       "False"
      ]
     },
     "execution_count": 9,
     "metadata": {},
     "output_type": "execute_result"
    }
   ],
   "source": [
    "not (x == 3 or y < x)"
   ]
  },
  {
   "cell_type": "markdown",
   "metadata": {
    "slideshow": {
     "slide_type": "slide"
    }
   },
   "source": [
    "# <font color=red>Quiz 1</font>\n",
    "\n",
    "```python\n",
    "x = 5\n",
    "y = -1\n",
    "\n",
    "y < 0 or not ( (x == y or x > y) and 10 >= 3 )\n",
    "```\n",
    "\n",
    "*On your honor, please do not test this in a code cell.*\n",
    "\n",
    "    A) True\n",
    "    B) False"
   ]
  },
  {
   "cell_type": "markdown",
   "metadata": {
    "slideshow": {
     "slide_type": "slide"
    }
   },
   "source": [
    "# if code blocks"
   ]
  },
  {
   "cell_type": "code",
   "execution_count": 10,
   "metadata": {},
   "outputs": [
    {
     "name": "stdout",
     "output_type": "stream",
     "text": [
      "done\n"
     ]
    }
   ],
   "source": [
    "x = 3\n",
    "\n",
    "if x == 5:\n",
    "    print('five')\n",
    "    print('what a great number')\n",
    "\n",
    "print('done')"
   ]
  },
  {
   "cell_type": "code",
   "execution_count": 11,
   "metadata": {
    "slideshow": {
     "slide_type": "fragment"
    }
   },
   "outputs": [
    {
     "name": "stdout",
     "output_type": "stream",
     "text": [
      "yipee!\n",
      "three\n",
      "done\n"
     ]
    }
   ],
   "source": [
    "if x == 3:\n",
    "    \n",
    "    print('yipee!')\n",
    "    \n",
    "    print('three')\n",
    "\n",
    "print('done')"
   ]
  },
  {
   "cell_type": "markdown",
   "metadata": {
    "slideshow": {
     "slide_type": "slide"
    }
   },
   "source": [
    "# if/elif/else"
   ]
  },
  {
   "cell_type": "code",
   "execution_count": 12,
   "metadata": {},
   "outputs": [
    {
     "name": "stdout",
     "output_type": "stream",
     "text": [
      "meow\n"
     ]
    }
   ],
   "source": [
    "animal = \"cat\"\n",
    "\n",
    "if animal == \"cat\":\n",
    "    print('meow')\n",
    "elif animal == \"dog\":\n",
    "    \n",
    "    print('bark')\n",
    "    \n",
    "elif animal == \"bird\":\n",
    "    pass\n",
    "else:\n",
    "    print('not a cat')\n",
    "    \n",
    "    print('not a dog')\n",
    "    print('not a bird')"
   ]
  },
  {
   "cell_type": "markdown",
   "metadata": {
    "slideshow": {
     "slide_type": "fragment"
    }
   },
   "source": [
    "Try changing **animal** to **dog**, **bird** or **fish** and rerun the above cell."
   ]
  },
  {
   "cell_type": "markdown",
   "metadata": {
    "slideshow": {
     "slide_type": "slide"
    }
   },
   "source": [
    "# <font color=red>Quiz 2</font>\n",
    "\n",
    "```python\n",
    "if False:\n",
    "    print(0)\n",
    "else:\n",
    "    print(1)\n",
    "if True:\n",
    "    print(\"Y\")\n",
    "if False:\n",
    "    print(\"N\")\n",
    "```\n",
    "\n",
    "What is the output for the above?\n",
    "\n",
    "*On your honor, please do not test this in a code cell.*\n",
    "\n",
    "    A) Y\n",
    "    B) 1\n",
    "    C) 1\n",
    "       Y"
   ]
  },
  {
   "cell_type": "markdown",
   "metadata": {
    "slideshow": {
     "slide_type": "slide"
    }
   },
   "source": [
    "# Nested code blocks\n",
    "\n",
    "![](images/nested-blocks.png)"
   ]
  },
  {
   "cell_type": "markdown",
   "metadata": {
    "slideshow": {
     "slide_type": "slide"
    }
   },
   "source": [
    "# Nested code blocks"
   ]
  },
  {
   "cell_type": "code",
   "execution_count": 13,
   "metadata": {
    "scrolled": true
   },
   "outputs": [
    {
     "name": "stdout",
     "output_type": "stream",
     "text": [
      "negative\n",
      "not more than 3\n",
      "done\n"
     ]
    }
   ],
   "source": [
    "x = -2.1\n",
    "\n",
    "if x <= 3:\n",
    "    if x >= 0:\n",
    "        print('in 0-3')\n",
    "    else:\n",
    "        print('negative')\n",
    "    \n",
    "    print('not more than 3')\n",
    "else:\n",
    "    print('>= 3')\n",
    "\n",
    "print('done')"
   ]
  },
  {
   "cell_type": "markdown",
   "metadata": {
    "slideshow": {
     "slide_type": "fragment"
    }
   },
   "source": [
    "Try changing x to +2.1 or 3 and rerun the above cell."
   ]
  },
  {
   "cell_type": "markdown",
   "metadata": {
    "slideshow": {
     "slide_type": "slide"
    }
   },
   "source": [
    "# <font color=red>Exercise</font>"
   ]
  },
  {
   "cell_type": "code",
   "execution_count": 14,
   "metadata": {},
   "outputs": [],
   "source": [
    "group = \"test\"  # test or control\n",
    "effect = \"no\"  # yes or no\n",
    "\n",
    "# Use nested blocks to print one of:\n",
    "# \"in test group, effect was observed\"\n",
    "# \"in test group, but no observed effect\"\n",
    "# \"in control group, effect was observed\"\n",
    "# \"in control group, but no observed effect\""
   ]
  }
 ],
 "metadata": {
  "celltoolbar": "Slideshow",
  "kernelspec": {
   "display_name": "Python 3",
   "language": "python",
   "name": "python3"
  },
  "language_info": {
   "codemirror_mode": {
    "name": "ipython",
    "version": 3
   },
   "file_extension": ".py",
   "mimetype": "text/x-python",
   "name": "python",
   "nbconvert_exporter": "python",
   "pygments_lexer": "ipython3",
   "version": "3.8.6"
  }
 },
 "nbformat": 4,
 "nbformat_minor": 4
}
