{
 "cells": [
  {
   "cell_type": "markdown",
   "metadata": {
    "slideshow": {
     "slide_type": "slide"
    }
   },
   "source": [
    "# Learning Goals\n",
    "\n",
    "* You will apply everything you've learned up to this point to simulate random walks in various dimensions and visualize them.\n",
    "* You will appreciate the role of random fluctuations in molecular diffusion."
   ]
  },
  {
   "cell_type": "markdown",
   "metadata": {
    "slideshow": {
     "slide_type": "slide"
    }
   },
   "source": [
    "# Diffusion\n",
    "\n",
    "![](images/synapse.png)"
   ]
  },
  {
   "cell_type": "markdown",
   "metadata": {
    "slideshow": {
     "slide_type": "slide"
    }
   },
   "source": [
    "# What cuases the solute to diffuse?\n",
    "\n",
    "![](images/diffusion.jpg)"
   ]
  },
  {
   "cell_type": "markdown",
   "metadata": {
    "slideshow": {
     "slide_type": "slide"
    }
   },
   "source": [
    "# Discrete random walk in one dimension\n",
    "\n",
    "Write a program that simulates a one-dimensional random walk amongst 100 discrete sites where each of 1000 identical and independent particles has equal probability to move one site in either direction at each time step. Treat the edges as reflecting (i.e. the particle moves back the other direction with 100% probability). Start the particles distributed uniformly across five sites centered on the 20th site and observe how they distribute as time progresses (i.e. keep track of all particle locations at each time point for later visualization). Make the probability of going left-vs-right a variable so that you can play around with it.\n",
    "\n",
    "![](images/randomwalk1d.gif)"
   ]
  },
  {
   "cell_type": "markdown",
   "metadata": {
    "slideshow": {
     "slide_type": "slide"
    }
   },
   "source": [
    "# Step 1: What data structure(s) will you use to keep track of all the particles for all time steps of the simulation?\n",
    "\n",
    "* 100 discrete sites\n",
    "* 1000 identical and independent particles\n",
    "\n",
    "8 min."
   ]
  },
  {
   "cell_type": "markdown",
   "metadata": {
    "slideshow": {
     "slide_type": "slide"
    }
   },
   "source": [
    "# Step 2: Initialize your data structure(s) based on the starting conditions.\n",
    "\n",
    "Start the particles distributed uniformly across five sites centered on the 20th site\n",
    "\n",
    "8 min."
   ]
  },
  {
   "cell_type": "code",
   "execution_count": null,
   "metadata": {},
   "outputs": [],
   "source": []
  },
  {
   "cell_type": "markdown",
   "metadata": {
    "slideshow": {
     "slide_type": "slide"
    }
   },
   "source": [
    "# Step 3: Write pseudocode for how you will run the simulation.\n",
    "\n",
    "15 min."
   ]
  },
  {
   "cell_type": "raw",
   "metadata": {},
   "source": [
    "FOR each time step:\n",
    "    ...\n",
    "        IF some condition:\n",
    "            move particle right\n",
    "        ELSE:\n",
    "            move particle left"
   ]
  },
  {
   "cell_type": "markdown",
   "metadata": {
    "slideshow": {
     "slide_type": "slide"
    }
   },
   "source": [
    "# Step 4: Translate your pseudocode to code.\n",
    "\n",
    "10 min."
   ]
  },
  {
   "cell_type": "code",
   "execution_count": null,
   "metadata": {},
   "outputs": [],
   "source": []
  },
  {
   "cell_type": "markdown",
   "metadata": {
    "slideshow": {
     "slide_type": "slide"
    }
   },
   "source": [
    "# Step 5: Visualize your simulation.\n",
    "\n",
    "8 min."
   ]
  },
  {
   "cell_type": "code",
   "execution_count": null,
   "metadata": {},
   "outputs": [],
   "source": []
  },
  {
   "cell_type": "markdown",
   "metadata": {
    "slideshow": {
     "slide_type": "slide"
    }
   },
   "source": [
    "# Discrete random walk in two dimensions\n",
    "\n",
    "Write a program simulating a two-dimensional random walk amongst 100x100 discrete sites with 1000 independent particles initially distributed uniformly in a 5x5 square centered on site (20,20) with 25% probability to step in each direction. Make it so that if a particle moves off of an edge of the 100x100 grid it enters from the opposite edge. Keep track of all particle locations at each time point and use plots to visually convey what is going on.\n",
    "\n",
    "![](images/randomwalk2d.gif)"
   ]
  },
  {
   "cell_type": "code",
   "execution_count": null,
   "metadata": {},
   "outputs": [],
   "source": []
  },
  {
   "cell_type": "markdown",
   "metadata": {
    "slideshow": {
     "slide_type": "slide"
    }
   },
   "source": [
    "# What cuases the solute to diffuse?\n",
    "\n",
    "![](images/diffusion.jpg)"
   ]
  },
  {
   "cell_type": "markdown",
   "metadata": {
    "slideshow": {
     "slide_type": "slide"
    }
   },
   "source": [
    "# Learning Goals\n",
    "\n",
    "* You will apply everything you've learned up to this point to simulate random walks in various dimensions and visualize them.\n",
    "* You will appreciate the role of random fluctuations in molecular diffusion."
   ]
  }
 ],
 "metadata": {
  "celltoolbar": "Slideshow",
  "kernelspec": {
   "display_name": "Python 3",
   "language": "python",
   "name": "python3"
  },
  "language_info": {
   "codemirror_mode": {
    "name": "ipython",
    "version": 3
   },
   "file_extension": ".py",
   "mimetype": "text/x-python",
   "name": "python",
   "nbconvert_exporter": "python",
   "pygments_lexer": "ipython3",
   "version": "3.8.6"
  }
 },
 "nbformat": 4,
 "nbformat_minor": 4
}
